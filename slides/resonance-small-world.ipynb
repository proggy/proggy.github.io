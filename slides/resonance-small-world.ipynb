{
 "metadata": {
  "celltoolbar": "Slideshow",
  "name": "",
  "signature": "sha256:e9990df944e401aef4aa61fa9c96541254c17a71805f8a7278abe9fd2b643ead"
 },
 "nbformat": 3,
 "nbformat_minor": 0,
 "worksheets": [
  {
   "cells": [
    {
     "cell_type": "code",
     "collapsed": false,
     "input": [
      "import networkx\n",
      "import condynet.graph\n",
      "import condynet.plot\n",
      "import condynet.drawing\n",
      "import h5obj\n",
      "import glob\n",
      "import bundle"
     ],
     "language": "python",
     "metadata": {
      "slideshow": {
       "slide_type": "skip"
      }
     },
     "outputs": [],
     "prompt_number": 1
    },
    {
     "cell_type": "markdown",
     "metadata": {
      "slideshow": {
       "slide_type": "notes"
      }
     },
     "source": [
      "I was asked to give a tutorial that may serve also as an introduction to students new to this field of research.\n",
      "\n",
      "As I am pretty new to the topic myself, I decided to focus on an aspect I started with myself:\n",
      "\n",
      "The determination of resonance frequencies of LC networks with binary link disorder.\n",
      "\n",
      "In the case of a binary distribution of edge impedances, a simple scheme can be used that is due to Fyodorov."
     ]
    },
    {
     "cell_type": "markdown",
     "metadata": {
      "slideshow": {
       "slide_type": "slide"
      }
     },
     "source": [
      "<img align=\"right\" width=\"100px\" height=\"100px\" src=\"pic/logo-bmbf-en.jpg\">\n",
      "<img align=\"right\" width=\"300px\" src=\"pic/logo-stromnetze.png\" style=\"padding-left: 20px; padding-right: 20px;\">\n",
      "<img align=\"left\" width=\"200px\" src=\"pic/logo-jub.png\">\n",
      "<small>*Collective Nonlinear Dynamics of<br>\n",
      "Electricity Networks (CoNDyNet)*</small>\n",
      "\n",
      "<center style=\"clear: both;\">\n",
      "___________________________________________________\n",
      "\n",
      "\n",
      "# Determination of resonance frequencies of LC networks with binary link disorder\n",
      "\n",
      "<!-- How to calculate resonance frequencies of LC networks with binary link disorder -->\n",
      "<!-- Determination of resonance spectra of LC networks with binary link disorder -->\n",
      "___________________________________________________\n",
      "\n",
      "## Daniel Jung\n",
      "\n",
      "*Jacobs University Bremen*<br>\n",
      "*School of Engineering and Science*<br>\n",
      "*Solid State Physics Group*\n",
      "\n",
      "\n",
      "December 10, 2014"
     ]
    },
    {
     "cell_type": "markdown",
     "metadata": {
      "slideshow": {
       "slide_type": "notes"
      }
     },
     "source": [
      "This is the outline of this talk.\n",
      "\n",
      "To give an introduction to interested students new to this topic, I start with the fundamental flow equations.\n",
      "\n",
      "I continue with some basic knowledge about graph theory that is needed for our analysis.\n",
      "\n",
      "I then introduce the Small World Model, for which we confirm some results by Huang and coworkers.\n",
      "\n",
      "We then add impedances to the edges of the graph to complete our network model.\n",
      "\n",
      "I will proceed with the numerical method to determine the resonance frequencies and the density of resonances which is largely due to Huang et al. and Fyodorov.\n",
      "\n",
      "Finally we have a look at some results for the 2D grid model and the Small World Model."
     ]
    },
    {
     "cell_type": "markdown",
     "metadata": {
      "slideshow": {
       "slide_type": "slide"
      }
     },
     "source": [
      "<img src=\"pic/Pylon_ds.jpg\" width=200 align=\"right\">\n",
      "\n",
      "# Table of contents\n",
      "\n",
      "1. Motivation\n",
      "    * LC circuit\n",
      "    * Flow equations\n",
      "\n",
      "2. Model\n",
      "    * Basic Graph Theory\n",
      "    * The 2D grid model\n",
      "    * The Small World Model\n",
      "    * Adding Edge Attributes\n",
      "        \n",
      "3. Numerical method\n",
      "    * Resonance frequencies\n",
      "\n",
      "4. Resonance spectra\n",
      "    * The 2D grid model\n",
      "    * The Small World Model\n",
      "\n",
      "5. Summary"
     ]
    },
    {
     "cell_type": "markdown",
     "metadata": {
      "slideshow": {
       "slide_type": "notes"
      }
     },
     "source": [
      "As most of you will know, an electric circuit consisting of a capacitor $C$ and an inductor $L$ forms an oscillating circuit \n",
      "\n",
      "(where the energy is periodically stored in the electric field of the capacitor and the magnetic field of the inductor).\n",
      "\n",
      "The circuit has the well known resonance frequency $1/\\sqrt{LC}$. For an AC current with this frequency, the impedance $Z$ of the circuit becomes *infinite*.\n",
      "\n",
      "The relevance to AC power transmission systems is clear: Operating the system at a resonance frequency prevents power transmission.\n",
      "\n",
      "    maybe motivate by resonance frequencies of a single line,\n",
      "    and how engineers try to stay way below the first\n",
      "    resonance frequency in normal operation [Heuck]\n",
      "    \n",
      "    For binary link distribution, there exists a simple scheme to calculate the *resonace frequencies*\n",
      "    by solving a *regular eigenvalue problem*."
     ]
    },
    {
     "cell_type": "markdown",
     "metadata": {
      "slideshow": {
       "slide_type": "slide"
      }
     },
     "source": [
      "## Motivation\n",
      "\n",
      "<div style=\"float: right; width: 200px;\">\n",
      "<img src=\"pic/lc-loop.png\" width=\"200px\">\n",
      "<br>\n",
      "$$Z = R + i X$$\n",
      "<br>\n",
      "$$\\frac{1}{X} = \\frac{1}{i\\omega L} + i\\omega C$$\n",
      "\n",
      "</div>\n",
      "\n",
      "A *LC circuit* has a *resonance frequency* of $\\omega_0 = \\frac{1}{\\sqrt{LC}}$\n",
      "\n",
      "Frequency $\\omega$ of AC current approaching the resonance frequency:\n",
      "$$\\lim\\limits_{\\omega \\rightarrow \\omega_0} Z(\\omega) = \\infty$$\n",
      "\n",
      "$\\Rightarrow$ **No power transmission possible!**\n",
      "\n",
      "Normal operation: $\\omega$ should stay *far below* the smallest resonance.\n",
      "\n",
      "### Arbitrary LC network\n",
      "\n",
      "- Coupled LC oscillators\n",
      "- Set of resonance frequencies $\\omega_n$"
     ]
    },
    {
     "cell_type": "markdown",
     "metadata": {
      "slideshow": {
       "slide_type": "notes"
      }
     },
     "source": [
      "<span style=\"color: red; font-face: bold;\">\n",
      "One more slide, reminder of complex conductance and complex impedance? Also polar description (phase angle) etc.?\n",
      "</span>"
     ]
    },
    {
     "cell_type": "markdown",
     "metadata": {
      "slideshow": {
       "slide_type": "slide"
      }
     },
     "source": [
      "## Flow equations I\n",
      "\n",
      "<div width=\"300px\" style=\"float: right; text-align: center;\">\n",
      "<img src=\"pic/ac-grid.png\" width=\"300px\" style=\"padding: 10px;\"/>\n",
      "An arbitrary one-phasic AC grid<br>\n",
      "with line impedances $Z_{ij}$.<br><br>\n",
      "Generator: $I_i > 0$<br>\n",
      "Consumer: $I_i < 0$\n",
      "<br><br>\n",
      "$$\\mathbf{Y} = \\mathbf{Z}^{-1}$$\n",
      "</div>\n",
      "\n",
      "Combine *Ohm's law*\n",
      "\n",
      "$$V_{ij} = Z_{ij} I_{ij} \\quad\\text{or}\\quad I_{ij} = Y_{ij} V_{ij} \\qquad\\qquad$$\n",
      "\n",
      "with *Kirchhoff's laws* for each node and mesh\n",
      "\n",
      "$$I_i = \\sum_j I_{ij} \\qquad V_{ij} = V_i - V_j$$\n",
      "\n",
      "to derive the *current flow equations*\n",
      "\n",
      "$$I_i = \\sum_j Y_{ij} (V_i - V_j) \\quad\\rm.$$\n",
      "\n",
      "Name                | Symbol\n",
      "--------------------|-------------\n",
      "*Impedance matrix*  | $\\mathbf{Z}$\n",
      "*Admittance matrix* | $\\mathbf{Y}$\n",
      "\n",
      "\n",
      "----------------------------------\n",
      "<span style=\"color: gray;\">\n",
      "[R. Huang, G. Korniss, S. Nayak, 2009](http://dx.doi.org/10.1103/PhysRevE.80.045101)\n",
      "</span>"
     ]
    },
    {
     "cell_type": "markdown",
     "metadata": {
      "slideshow": {
       "slide_type": "subslide"
      }
     },
     "source": [
      "## Flow Equations II\n",
      "\n",
      "<div width=\"300px\" style=\"float: right; text-align: center;\">\n",
      "<img src=\"pic/ac-grid.png\" width=\"300px\" style=\"padding: 10px;\"/>\n",
      "An arbitrary one-phasic AC grid.<br><br>\n",
      "Generator: $I_i > 0$<br>\n",
      "Consumer: $I_i < 0$\n",
      "</div>\n",
      "\n",
      "$$I_i = \\sum_j Y_{ij} (V_i - V_j)$$\n",
      "\n",
      "To get a standard matrix-vector multiplication, reformulate to\n",
      "\n",
      "$$I_i = \\sum_j L_{ij} V_j \\quad\\mathrm{or}\\quad \\mathbf{I} = \\mathbf{L} \\mathbf{V}$$\n",
      "\n",
      "with\n",
      "\n",
      "$$L_{ij} = \\delta_{ij} \\sum_{k\\neq i} Y_{ik} - (1-\\delta_{ij}) Y_{ij}$$\n",
      "\n",
      "**Note:**\n",
      "\n",
      "* $\\mathbf{L}$ is defined in analogy to the *topological network Laplacian* $\\mathbf{G}$.\n",
      "* $\\mathbf{L}$ is commonly referred to as *admittance matrix* as well.\n",
      "\n",
      "\n",
      "----------------------------------\n",
      "<span style=\"color: gray;\">\n",
      "[R. Huang, G. Korniss, S. Nayak, 2009](http://dx.doi.org/10.1103/PhysRevE.80.045101)\n",
      "</span>"
     ]
    },
    {
     "cell_type": "code",
     "collapsed": false,
     "input": [
      "figsize(4, 1.5)\n",
      "g = networkx.Graph()\n",
      "g.add_edges_from([(0, 1), (0, 2), (1, 2), (2, 3)])\n",
      "networkx.draw(g, node_color='white', with_labels=True)\n",
      "savefig('pic/small-graph.svg', bbox_inches='tight')\n",
      "close(gcf())"
     ],
     "language": "python",
     "metadata": {
      "slideshow": {
       "slide_type": "skip"
      }
     },
     "outputs": [],
     "prompt_number": 2
    },
    {
     "cell_type": "markdown",
     "metadata": {
      "slideshow": {
       "slide_type": "notes"
      }
     },
     "source": [
      "Clarify basic terms when speaking about graphs and networks.\n",
      "\n",
      "We represent our electricity grid by a graph.\n",
      "\n",
      "Mathematically, a graph is given by a set of *nodes* (or *vertices*) and a set of *edges* (or *links*) connecting the nodes.\n",
      "\n",
      "The order $N$ of a graph is the number of its nodes, while the size $S$ is the number of its edges."
     ]
    },
    {
     "cell_type": "markdown",
     "metadata": {
      "slideshow": {
       "slide_type": "slide"
      }
     },
     "source": [
      "## Basic Graph Theory I\n",
      "\n",
      "<div width=\"400px\" style=\"float: right; text-align: center;\">\n",
      "<h4>Example</h4>\n",
      "<img src=\"pic/small-graph.svg\" width=\"400px\" />\n",
      "$N = 4$\n",
      "</div>\n",
      "\n",
      "A *graph* is given by\n",
      "\n",
      "- a set of *nodes* $i$\n",
      "- a set of *edges* $(i, j)$\n",
      "\n",
      "### Properties\n",
      "\n",
      "Property    | Explanation\n",
      "------------|----------------\n",
      "*Order* $N$ | Number of nodes\n",
      "*Size*      | Number of edges\n"
     ]
    },
    {
     "cell_type": "code",
     "collapsed": false,
     "input": [
      "D = diag(g.degree().values())\n",
      "print D"
     ],
     "language": "python",
     "metadata": {
      "slideshow": {
       "slide_type": "skip"
      }
     },
     "outputs": [
      {
       "output_type": "stream",
       "stream": "stdout",
       "text": [
        "[[2 0 0 0]\n",
        " [0 2 0 0]\n",
        " [0 0 3 0]\n",
        " [0 0 0 1]]\n"
       ]
      }
     ],
     "prompt_number": 3
    },
    {
     "cell_type": "code",
     "collapsed": true,
     "input": [
      "import easytable\n",
      "t = easytable.autotable(D, hc='&', hp=1)\n",
      "tl = [r+'\\\\\\\\' for r in t.split('\\n')]\n",
      "print '\\n'.join(tl)"
     ],
     "language": "python",
     "metadata": {
      "slideshow": {
       "slide_type": "skip"
      }
     },
     "outputs": [
      {
       "output_type": "stream",
       "stream": "stdout",
       "text": [
        " 2 & 0 & 0 & 0 \\\\\n",
        " 0 & 2 & 0 & 0 \\\\\n",
        " 0 & 0 & 3 & 0 \\\\\n",
        " 0 & 0 & 0 & 1 \\\\\n"
       ]
      }
     ],
     "prompt_number": 4
    },
    {
     "cell_type": "code",
     "collapsed": false,
     "input": [
      "E = networkx.adjacency_matrix(g).todense()\n",
      "print E"
     ],
     "language": "python",
     "metadata": {
      "slideshow": {
       "slide_type": "skip"
      }
     },
     "outputs": [
      {
       "output_type": "stream",
       "stream": "stdout",
       "text": [
        "[[0 1 1 0]\n",
        " [1 0 1 0]\n",
        " [1 1 0 1]\n",
        " [0 0 1 0]]\n"
       ]
      }
     ],
     "prompt_number": 5
    },
    {
     "cell_type": "code",
     "collapsed": false,
     "input": [
      "G = networkx.laplacian_matrix(g).todense()\n",
      "print G"
     ],
     "language": "python",
     "metadata": {
      "slideshow": {
       "slide_type": "skip"
      }
     },
     "outputs": [
      {
       "output_type": "stream",
       "stream": "stdout",
       "text": [
        "[[ 2 -1 -1  0]\n",
        " [-1  2 -1  0]\n",
        " [-1 -1  3 -1]\n",
        " [ 0  0 -1  1]]\n"
       ]
      }
     ],
     "prompt_number": 6
    },
    {
     "cell_type": "markdown",
     "metadata": {
      "slideshow": {
       "slide_type": "notes"
      }
     },
     "source": [
      "One important property of a node is its *degree*, which is the number of incident edges.\n",
      "\n",
      "One can define the *degree matrix* $\\mathbf{D}$ as the diagonal matrix which lists all node degrees on its diagonal.\n",
      "\n",
      "Then there is the *adjacency matrix* $\\mathbf{E}$, whose elements $E_{ij}$ are only nonzero if there exists an edge from node $i$ to node $j$.\n",
      "\n",
      "An important matrix is the *Laplacian matrix* $\\mathbf{G}$, which is defined as $\\mathbf{G} = \\mathbf{D} - \\mathbf{E}$. It has some interesting properties."
     ]
    },
    {
     "cell_type": "markdown",
     "metadata": {
      "slideshow": {
       "slide_type": "subslide"
      }
     },
     "source": [
      "## Basic Graph Theory II\n",
      "\n",
      "<div width=\"400px\" style=\"float: right; text-align: center;\">\n",
      "<h4>Example</h4>\n",
      "<img src=\"pic/small-graph.svg\" width=\"400px\" />\n",
      "<div style=\"font-size: 75%;\">\n",
      "$$D =\n",
      "\\begin{pmatrix}\n",
      "2 & 0 & 0 & 0 \\\\\n",
      "0 & 2 & 0 & 0 \\\\\n",
      "0 & 0 & 3 & 0 \\\\\n",
      "0 & 0 & 0 & 1 \\\\\n",
      "\\end{pmatrix}$$\n",
      "\n",
      "$$E =\n",
      "\\begin{pmatrix}\n",
      "0 & 1 & 1 & 0 \\\\\n",
      "1 & 0 & 1 & 0 \\\\\n",
      "1 & 1 & 0 & 1 \\\\\n",
      "0 & 0 & 1 & 0 \\\\\n",
      "\\end{pmatrix}$$\n",
      "\n",
      "$$G =\n",
      "\\begin{pmatrix}\n",
      " 2 & -1 & -1 &  0 \\\\\n",
      "-1 &  2 & -1 &  0 \\\\\n",
      "-1 & -1 &  3 & -1 \\\\\n",
      " 0 &  0 & -1 &  1 \\\\\n",
      "\\end{pmatrix}$$\n",
      "</div>\n",
      "</div>\n",
      "\n",
      "### Node Properties\n",
      "\n",
      "Property | Explanation\n",
      "---------|-------------------------\n",
      "*Degree* | Number of incident edges\n",
      "\n",
      "\n",
      "### Matrices\n",
      "\n",
      "Name                            | Explanation\n",
      "--------------------------------|--------------------------------------------------\n",
      "*Degree matrix* $\\mathbf{D}$    | Diagonal matrix containing all node degrees\n",
      "*Adjacency matrix* $\\mathbf{E}$ | Nonzero only if nodes $i$ and $j$ are *adjacent*\n",
      "*Laplacian matrix* $\\mathbf{G}$ | $\\mathbf{G} = \\mathbf{D} - \\mathbf{E}$\n",
      "\n",
      "$$G_{ij} = \\delta_{ij} \\sum_{k\\neq i} E_{ik} - (1-\\delta_{ij}) E_{ij}$$"
     ]
    },
    {
     "cell_type": "code",
     "collapsed": false,
     "input": [
      "evs = networkx.laplacian_spectrum(g)\n",
      "condynet.plot.pspectrum(evs, limits=[-.2, 4.2], figsize=[6, 1], width=1)\n",
      "savefig('pic/laplacian-spectrum.svg', bbox_inches='tight')\n",
      "print around(evs, 6)"
     ],
     "language": "python",
     "metadata": {
      "slideshow": {
       "slide_type": "skip"
      }
     },
     "outputs": [
      {
       "output_type": "stream",
       "stream": "stdout",
       "text": [
        "[-0.  1.  3.  4.]\n"
       ]
      },
      {
       "metadata": {},
       "output_type": "display_data",
       "png": "[encoded data removed]",
       "text": [
        "<matplotlib.figure.Figure at 0x7f73d9b9d6d0>"
       ]
      }
     ],
     "prompt_number": 7
    },
    {
     "cell_type": "markdown",
     "metadata": {
      "slideshow": {
       "slide_type": "notes"
      }
     },
     "source": [
      "The Laplacian matrix of a graph has some fascinating properties:\n",
      "\n",
      "All eigenvalues of $\\mathbf{G}$ are positive or zero, making it a *positive semi-definite* matrix. \n",
      "\n",
      "There is always at least one eigenvalue zero, so $\\mathbf{G}$ is a *singular matrix* and can only be inverted using the *generalized inverse* (or *pseudo-inverse*).\n",
      "\n",
      "Interestingly, the number of eigenvalues zero corresponds to the number of *connected components* of the graph. If all nodes are connected, there is exactly one eigenvalue zero.\n",
      "\n",
      "The second eigenvalue is the *algebraic connectivity*.\n",
      "\n",
      "    Lowest non-zero EV: *Spectral gap*"
     ]
    },
    {
     "cell_type": "markdown",
     "metadata": {
      "slideshow": {
       "slide_type": "subslide"
      }
     },
     "source": [
      "## Basic Graph Theory III\n",
      "\n",
      "<div width=\"300px\" style=\"float: right; text-align: center; font-size: 90%;\">\n",
      "<h4>Example</h4>\n",
      "<img src=\"pic/small-graph.svg\" width=\"300px\" />\n",
      "\n",
      "<pre>\n",
      "Laplacian spectrum:\n",
      "[0.  1.  3.  4.]\n",
      "</pre>\n",
      "<img src=\"pic/laplacian-spectrum.svg\" width=\"300px\">\n",
      "\n",
      "<div style=\"font-size: 75%;\">\n",
      "$$G =\n",
      "\\begin{pmatrix}\n",
      " 2 & -1 & -1 &  0 \\\\\n",
      "-1 &  2 & -1 &  0 \\\\\n",
      "-1 & -1 &  3 & -1 \\\\\n",
      " 0 &  0 & -1 &  1 \\\\\n",
      "\\end{pmatrix}$$\n",
      "</div>\n",
      "\n",
      "</div>\n",
      "\n",
      "\n",
      "### Laplacian spectrum\n",
      "\n",
      "Certain eigenvalues (EVs) of the Laplacian matrix $\\mathbf{G}$ have special properties:\n",
      "\n",
      "- All EVs are non-negative<br>\n",
      "    (as $\\mathbf{G}$ is *positive semi-definite*).\n",
      "- At least one eigenvalue is $0$.\n",
      "- Number of eigenvalues equal<br>\n",
      "    to $0$: Number of *connected subgraphs*.\n",
      "- Second-smallest EV:<br>\n",
      "    *Algebraic connectivity*."
     ]
    },
    {
     "cell_type": "code",
     "collapsed": false,
     "input": [
      "g = networkx.grid_2d_graph(3, 3, periodic=True)\n",
      "figsize(4, 4)\n",
      "condynet.drawing.draw_grid2d_periodic(g, node_color='white', with_labels=True, node_size=2000)\n",
      "savefig('pic/grid2d.svg')\n",
      "close(gcf())"
     ],
     "language": "python",
     "metadata": {
      "slideshow": {
       "slide_type": "skip"
      }
     },
     "outputs": [],
     "prompt_number": 8
    },
    {
     "cell_type": "markdown",
     "metadata": {
      "slideshow": {
       "slide_type": "slide"
      }
     },
     "source": [
      "## The regular 2D grid graph\n",
      "\n",
      "<div width=\"300px\" style=\"text-align: center;\"> <!-- float: right; -->\n",
      "<!-- <h4>Example</h4> -->\n",
      "<img src=\"pic/grid2d.svg\" width=\"300px\" style=\"align: center;\">\n",
      "$N=9$, periodic boundary conditions\n",
      "</div>"
     ]
    },
    {
     "cell_type": "code",
     "collapsed": false,
     "input": [
      "g = condynet.graph.small_world(12, p=1.5)\n",
      "figsize(4, 4)\n",
      "networkx.draw_circular(g, node_color='white', with_labels=True, node_size=500, width=3)\n",
      "savefig('pic/small-world.svg', bbox_inches='tight')\n",
      "close(gcf())"
     ],
     "language": "python",
     "metadata": {
      "slideshow": {
       "slide_type": "skip"
      }
     },
     "outputs": [],
     "prompt_number": 43
    },
    {
     "cell_type": "markdown",
     "metadata": {
      "slideshow": {
       "slide_type": "notes"
      }
     },
     "source": [
      "Now I want to introduce a simple disordered graph, known as the *Small World Model*:\n",
      "\n",
      "The nodes form a closed ring, i.e. every node is connected to its neighbor.\n",
      "\n",
      "Then, additional random *shortcuts* are created. The density of shortcuts can be defined as $S/N$, where $S$ is the number of shortcuts. There exist different definitions for the it; we are using the parameter $p$ here which is equal to twice the shortcut density, i.e. the density of nodes that \"participate\" at a shortcut.\n",
      "\n",
      "$p$ is a parameter influencing directly the disorder in the system. For $p=0$, there is no disorder at all and we have a *closed ring* topology. The maximum value of $p$ is $N-3$, where we arrive at the *complete graph* with $N$ nodes. Thus, the parameter $p$ allows us to tune the connectivity of our graph.\n",
      "\n",
      "Following the formulas, there should be 9 shortcuts in the example (on average)."
     ]
    },
    {
     "cell_type": "markdown",
     "metadata": {
      "slideshow": {
       "slide_type": "subslide"
      }
     },
     "source": [
      "## The Small World Model\n",
      "\n",
      "<div width=\"380px\" style=\"float: right; text-align: center;\">\n",
      "<h4>Example</h4>\n",
      "<img src=\"pic/small-world.svg\" width=\"380px\">\n",
      "$N=12 \\qquad p=1.5$\n",
      "</div>\n",
      "\n",
      "Closed ring with $N$ nodes, plus $S$ randomly chosen *shortcuts*.\n",
      "\n",
      "*Shortcut density* $\\frac{p}{2} = \\frac{S}{N}$\n",
      "\n",
      "Number of shortcuts $S = \\frac{Np}{2}$\n",
      "\n",
      "Two limiting cases:\n",
      "\n",
      "<table width=\"400px\">\n",
      "<tr><th>Limiting case</th><th> Resulting graph</th>\n",
      "<tr><td>$p_{\\rm min} = 0$</td><td>*Closed ring*</td></tr>\n",
      "<tr><td>$p_{\\rm max} = N - 3$</td><td>*Complete graph*</td></tr>\n",
      "</table>\n",
      "\n",
      "Maximum number of shortcuts:\n",
      "\n",
      "$$S_{\\rm max} = \\frac{N(N-3)}{2}$$\n",
      "\n",
      "-----------------------------------\n",
      "<span style=\"color: gray; font-size: 80%;\">\n",
      "[J. Travers, S. Milgram, 1969](http://www.jstor.org/stable/2786545);\n",
      "[M. Newman, D. Watts, 1999](http://dx.doi.org/10.1016/S0375-9601%2899%2900757-4);\n",
      "[R. Huang, G. Korniss, S. Nayak, 2009](http://dx.doi.org/10.1103/PhysRevE.80.045101)\n",
      "</span>"
     ]
    },
    {
     "cell_type": "code",
     "collapsed": false,
     "input": [
      "q = .5\n",
      "hvals = choose(rand(g.number_of_edges()) < q, [-1, 1])\n",
      "networkx.set_edge_attributes(g, 'hval', dict(zip(g.edges(), hvals)))"
     ],
     "language": "python",
     "metadata": {
      "slideshow": {
       "slide_type": "skip"
      }
     },
     "outputs": [],
     "prompt_number": 39
    },
    {
     "cell_type": "code",
     "collapsed": false,
     "input": [
      "edgelist, hvals = zip(*networkx.get_edge_attributes(g, 'hval').items())\n",
      "edgecolors = choose(array(hvals) == 1, array(['r', 'g']))\n",
      "networkx.draw_circular(g, edgelist=edgelist, edge_color=edgecolors, width=3,\n",
      "                       node_color='white', node_size=500, with_labels=True)\n",
      "savefig('pic/small-world-binary.svg', bbox_inches='tight')\n",
      "close(gcf())"
     ],
     "language": "python",
     "metadata": {
      "slideshow": {
       "slide_type": "skip"
      }
     },
     "outputs": [],
     "prompt_number": 41
    },
    {
     "cell_type": "markdown",
     "metadata": {
      "slideshow": {
       "slide_type": "notes"
      }
     },
     "source": [
      "To describe an AC electricity network, we put a property on the edges: The impedance $Z_{ij}$.\n",
      "\n",
      "Here, we put random impedances on the edges, following a binary distribution: With probability $q$, the edge shall carry a capacitance $C$, otherwise, it shall carry an inductance $L$."
     ]
    },
    {
     "cell_type": "markdown",
     "metadata": {
      "slideshow": {
       "slide_type": "notes"
      }
     },
     "source": [
      "<span style=\"color: red;\">\n",
      "Split this slide?\n",
      "</span>"
     ]
    },
    {
     "cell_type": "markdown",
     "metadata": {
      "slideshow": {
       "slide_type": "slide"
      }
     },
     "source": [
      "## Adding Edge Attributes\n",
      "\n",
      "<div width=\"380px\" style=\"float: right; text-align: center;\">\n",
      "<h4>Example</h4>\n",
      "<img src=\"pic/small-world-binary.svg\" width=\"380px\">\n",
      "$N=12$<br>\n",
      "$p=1.5 \\qquad q=0.5$\n",
      "</div>\n",
      "\n",
      "In order to describe *LC networks*, we attribute an *impedance* $Z_{ij}$<br>to each edge.\n",
      "\n",
      "Here, we consider *random* impedances, using a *binary distribution*:\n",
      "\n",
      "Edge type   | $Z_{ij}$           | Chance \n",
      "------------|:------------------:|-------:\n",
      "Capacitance | $(i\\omega C)^{-1}$ | $q$    \n",
      "Inductance  | $i\\omega L$        | $1-q$  \n",
      "\n",
      "\n",
      "----------------------------------\n",
      "<span style=\"color: gray;\">\n",
      "[R. Huang, G. Korniss, S. Nayak, 2009](http://dx.doi.org/10.1103/PhysRevE.80.045101)\n",
      "</span>"
     ]
    },
    {
     "cell_type": "markdown",
     "metadata": {
      "slideshow": {
       "slide_type": "notes"
      }
     },
     "source": [
      "Here, I have extended the table a bit, also including the corresponding admittance values, which I would like to call $y_1$ and $y_2$ in the following. Further, I would like to introduce the matrix $\\mathbf{h}$, which takes values $-1$ or $1$, if there is a capacitance or an inductance on the link $(i, j)$, respectively, or $0$ otherwise."
     ]
    },
    {
     "cell_type": "markdown",
     "metadata": {
      "slideshow": {
       "slide_type": "subslide"
      }
     },
     "source": [
      "Edge type   | $Z_{ij}$           | Chance | $Y_{ij}$                 | $h_{ij}$\n",
      "------------|:------------------:|:------:|:------------------------:|---------:\n",
      "Capacitance | $(i\\omega C)^{-1}$ | $q$    | $y_1 = i\\omega C$        | $-1$\n",
      "Inductance  | $i\\omega L$        | $1-q$  | $y_2 = (i\\omega L)^{-1}$ | $1$\n",
      "\n",
      "Introduce matrix $\\mathbf{h}$:\n",
      "\n",
      "$$h_{ij} = \\begin{cases}\n",
      "-1 & \\rm,\\quad \\text{edge $(i,j)$ carries capacitance $C$} \\\\\n",
      "1  & \\rm,\\quad \\text{edge $(i,j)$ carries inductance $L$}  \\\\\n",
      "0  & \\rm,\\quad \\text{no edge between $i$ and $j$.}\n",
      "\\end{cases}$$\n",
      "\n",
      "$\\Rightarrow$ Similar to $\\mathbf{E}$, but also $-1$ allowed.\n",
      "\n",
      "\n",
      "----------------------------------\n",
      "<span style=\"color: gray;\">\n",
      "[R. Huang, G. Korniss, S. Nayak, 2009](http://dx.doi.org/10.1103/PhysRevE.80.045101)\n",
      "</span>"
     ]
    },
    {
     "cell_type": "markdown",
     "metadata": {
      "slideshow": {
       "slide_type": "notes"
      }
     },
     "source": [
      "<span style=\"color: red; font-face: bold;\">Also include a drawing here.</span>"
     ]
    },
    {
     "cell_type": "markdown",
     "metadata": {
      "slideshow": {
       "slide_type": "notes"
      }
     },
     "source": [
      "Now that we have the current flow equations, we want to consider the *resonance case*, so the case when there is no incoming or outcoming current.\n",
      "\n",
      "In this way, we can calculate the resonance frequencies of the whole circuit, which can be seen as a system of coupled oscillators."
     ]
    },
    {
     "cell_type": "markdown",
     "metadata": {
      "slideshow": {
       "slide_type": "slide"
      }
     },
     "source": [
      "## Resonance frequencies I\n",
      "\n",
      "<div style=\"float: right; width: 300px;\">\n",
      "Remember:<br><br>\n",
      "*Flow equations*:<br><br>\n",
      "$$I_i = \\sum_j L_{ij} V_j \\quad\\mathrm{or}\\quad \\mathbf{I} = \\mathbf{L} \\mathbf{V}$$\n",
      "<br>\n",
      "with \"Laplacian matrix\" $\\mathbf{L}$.\n",
      "</div>\n",
      "\n",
      "* Consider *resonance case*, $I_i = 0$<br>\n",
      "* The system can be seen as a *system of coupled LC oscillator circuits*\n",
      "* The system has $N$ resonance frequencies $\\omega_n$\n",
      "\n",
      "$$\\sum_j L_{ij}(\\omega)\\, V_j = 0\n",
      "\\qquad\\text{or}\\qquad\n",
      "\\mathbf{L} \\mathbf{V} = \\mathbf{0}$$\n",
      "\n",
      "\n",
      "----------------------------------\n",
      "<span style=\"color: gray;\">\n",
      "[R. Huang, G. Korniss, S. Nayak, 2009](http://dx.doi.org/10.1103/PhysRevE.80.045101)\n",
      "</span>"
     ]
    },
    {
     "cell_type": "markdown",
     "metadata": {
      "slideshow": {
       "slide_type": "notes"
      }
     },
     "source": [
      "I present here the method described by Huang et al. and Fyodorov, which allows for the determination of resonance frequencies of random LC networks with binary link disorder by solving a regular eigenvalue problem.\n",
      "\n",
      "To do so, we have to define several quantities:"
     ]
    },
    {
     "cell_type": "markdown",
     "metadata": {
      "slideshow": {
       "slide_type": "subslide"
      }
     },
     "source": [
      "## Resonance frequencies II\n",
      "\n",
      "<div style=\"float: right; width: 300px; font-size: 90%;\">\n",
      "Remember:\n",
      "$$\\begin{align}\n",
      "y_1 &= i\\omega C \\\\\n",
      "y_2 &= (i\\omega L)^{-1}\n",
      "\\end{align}$$\n",
      "<br>\n",
      "$$h_{ij} = \n",
      "\\begin{cases}\n",
      "-1 &\\rm,\\quad Y_{ij} = y_1  \\\\\n",
      " 1 &\\rm,\\quad Y_{ij} = y_2  \\\\\n",
      " 0 &\\rm,\\quad Y_{ij} = 0\n",
      "\\end{cases}$$\n",
      "\n",
      "</div>\n",
      "\n",
      "\n",
      "Define $\\mathbf{H}$,\n",
      "\n",
      "$$H_{ij} = \\delta_{ij} \\sum_{k\\neq i} h_{ik} - (1-\\delta_{ij}) h_{ij} \\quad\\rm,$$\n",
      "\n",
      "and\n",
      "\n",
      "$$\\lambda = \\frac{y_1 + y_2}{y_1 - y_2} \\quad\\rm,$$\n",
      "\n",
      "so that the *flow equations for the resonance case* can be rewritten as\n",
      "\n",
      "$$\\mathbf{L} \\mathbf{V} = \\mathbf{0}\n",
      "\\qquad\\Rightarrow\\qquad\n",
      "(\\mathbf{H} - \\lambda \\mathbf{G}) \\mathbf{V} = \\mathbf{0} \\quad\\rm.$$\n",
      "\n",
      "But this is not yet a regular eigenvalue problem...\n",
      "\n",
      "----------------------------------\n",
      "<span style=\"color: gray;\">\n",
      "[R. Huang, G. Korniss, S. Nayak, 2009](http://dx.doi.org/10.1103/PhysRevE.80.045101);\n",
      "[Fyodorov 1999](http://dx.doi.org/10.1088/0305-4470/32/42/314)\n",
      "</span>"
     ]
    },
    {
     "cell_type": "markdown",
     "metadata": {
      "slideshow": {
       "slide_type": "notes"
      }
     },
     "source": [
      "    explain definitions"
     ]
    },
    {
     "cell_type": "markdown",
     "metadata": {
      "slideshow": {
       "slide_type": "subslide"
      }
     },
     "source": [
      "## Resonance frequencies III\n",
      "\n",
      "<div style=\"float: right; width: 300px; font-size: 90%;\">\n",
      "Remember:\n",
      "$$\\lambda = \\frac{y_1 + y_2}{y_1 - y_2}$$\n",
      "<br>\n",
      "$$\\begin{align}\n",
      "y_1 &= i\\omega C \\\\\n",
      "y_2 &= (i\\omega L)^{-1}\n",
      "\\end{align}$$\n",
      "</div>\n",
      "\n",
      "\n",
      "Define\n",
      "\n",
      "$$\\tilde{\\mathbf{H}} = \\mathbf{G}^{-1/2}\\, \\mathbf{H}\\, \\mathbf{G}^{-1/2}$$\n",
      "\n",
      "(real symmetric) and\n",
      "\n",
      "$$\\tilde{\\mathbf{V}} = \\mathbf{G}^{1/2} \\mathbf{V} \\quad\\rm.$$\n",
      "\n",
      "<br>\n",
      "Notes:\n",
      "\n",
      "1. $\\mathbf{G}$ is **real** and **positive semi-definite**, so its *matrix square root* $\\mathbf{G}^{1/2}$<br>\n",
      "    is uniquely defined.\n",
      "2. $\\mathbf{G}$ is **positive semi-definite**, i.e. it has at least one eigenvalue $0$ and hence is always *singular*.\n",
      "    So its *pseudo-inverse* $\\mathbf{G}^{-1}$<br>\n",
      "    has to be considered.\n",
      "\n",
      "----------------------------------\n",
      "<span style=\"color: gray;\">\n",
      "[Fyodorov 1999](http://dx.doi.org/10.1088/0305-4470/32/42/314)\n",
      "</span>"
     ]
    },
    {
     "cell_type": "markdown",
     "metadata": {
      "slideshow": {
       "slide_type": "notes"
      }
     },
     "source": [
      "When applying this mapping, it is ensured that $\\tilde{\\mathbf{H}}$ is real and symmetric, which can help with the numerical method used to solve the eigenvalue problem."
     ]
    },
    {
     "cell_type": "markdown",
     "metadata": {
      "slideshow": {
       "slide_type": "subslide"
      }
     },
     "source": [
      "## Resonance frequencies IV\n",
      "\n",
      "<div style=\"float: right; width: 300px; font-size: 90%;\">\n",
      "Remember:\n",
      "$$\\lambda = \\frac{y_1 + y_2}{y_1 - y_2}$$\n",
      "<br>\n",
      "$$\\begin{align}\n",
      "y_1 &= i\\omega C \\\\\n",
      "y_2 &= (i\\omega L)^{-1}\n",
      "\\end{align}$$\n",
      "</div>\n",
      "\n",
      "\n",
      "Define\n",
      "\n",
      "$$\\tilde{\\mathbf{H}} = \\mathbf{G}^{-1/2}\\, \\mathbf{H}\\, \\mathbf{G}^{-1/2}$$\n",
      "\n",
      "(real symmetric) and\n",
      "\n",
      "$$\\tilde{\\mathbf{V}} = \\mathbf{G}^{1/2} \\mathbf{V} \\quad\\rm.$$\n",
      "\n",
      "Then, we can rewrite\n",
      "\n",
      "$$(\\mathbf{H} - \\lambda \\mathbf{G}) \\mathbf{V} = \\mathbf{0} \n",
      "\\qquad\\Rightarrow\\qquad\n",
      "\\mathbf{\\tilde{H}}\\, \\mathbf{\\tilde{V}}_n = \\lambda_n \\mathbf{\\tilde{V}}_n$$\n",
      "\n",
      "So we are facing a *regular eigenvalue problem*, with a known relationship between the eivenvalues $\\lambda_n$ <br>\n",
      "and the resonance frequencies $\\omega_n$:\n",
      "\n",
      "$$\\omega_n = \\frac{1}{\\sqrt{LC}} \\sqrt{\\frac{1 + \\lambda_n}{1 - \\lambda_n}}$$\n",
      "\n",
      "----------------------------------\n",
      "<span style=\"color: gray;\">\n",
      "[Fyodorov 1999](http://dx.doi.org/10.1088/0305-4470/32/42/314)\n",
      "</span>"
     ]
    },
    {
     "cell_type": "code",
     "collapsed": false,
     "input": [
      "# load data\n",
      "data2d = {}\n",
      "filenames = glob.glob('/home/djung/work/condynet/dorg2d/l????/q????.h5')\n",
      "for filename in filenames:\n",
      "    f = h5obj.File(filename)\n",
      "    try:\n",
      "        reson = f['reson']\n",
      "        dens = f['dens']\n",
      "        stderr = f['stderr']\n",
      "        param = f['param']\n",
      "    except:\n",
      "        continue\n",
      "    shape = param.shape\n",
      "    shape0, shape1 = shape\n",
      "    if shape0 != shape1:\n",
      "        raise ValueError\n",
      "    q = param.q\n",
      "    if shape0 not in data2d:\n",
      "        data2d[shape0] = {}\n",
      "    if q in data2d[shape0]:\n",
      "        raise ValueError('data for L=%i and q=%03f already exists' % (shape0, q))\n",
      "    data2d[shape0][q] = bundle.Bundle(reson=reson, dens=dens, stderr=stderr, param=param)"
     ],
     "language": "python",
     "metadata": {
      "slideshow": {
       "slide_type": "skip"
      }
     },
     "outputs": [],
     "prompt_number": 12
    },
    {
     "cell_type": "code",
     "collapsed": false,
     "input": [
      "figsize(8, 5)\n",
      "L = 30\n",
      "for q in [.2, .3, .4, .5]:\n",
      "    d = data2d[L][q]\n",
      "    errorbar(d.reson, d.dens, yerr=d.stderr, label='q=%.1f' % q)\n",
      "axis([-1, 1, 0, None])\n",
      "legend(loc=1)\n",
      "title('Resonance spectrum of 2D grid with binary link disorder,\\n'\n",
      "      + r'$N\\, =\\, 30 \\times\\, 30\\, =\\, 900$, for different composite ratios $q$', fontsize=18)\n",
      "xlabel(r'$\\lambda$', fontsize=24)\n",
      "ylabel(r'$\\rho(\\lambda)$', fontsize=24)\n",
      "savefig('pic/ador-q05.svg', bbox_inches='tight')\n",
      "close(gcf())"
     ],
     "language": "python",
     "metadata": {
      "slideshow": {
       "slide_type": "skip"
      }
     },
     "outputs": [],
     "prompt_number": 13
    },
    {
     "cell_type": "markdown",
     "metadata": {
      "slideshow": {
       "slide_type": "subslide"
      }
     },
     "source": [
      "## Resonance spectra I: 2D grid\n",
      "\n",
      "<img src=\"pic/ador-q05.svg\" width=\"400px\" style=\"float: right;\">\n",
      "    \n",
      "Define the *density of resonances* (DOR):\n",
      "\n",
      "$$\\rho(\\lambda) = \\frac{1}{N} \\sum_{n=1}^{N_{\\mathrm{R}}} \\delta(\\lambda - \\lambda_n) \\qquad\\qquad$$\n",
      "\n",
      "$N_{\\mathrm{R}}\\rm:$<br>\n",
      "Number of \"true\" resonances<br>\n",
      "$(-1 < \\lambda_n < 1)$\n",
      "\n",
      "Obtain *ensemble average* (arithmetic mean) of the DOR over many disorder realizations (ADOR).\n",
      "\n",
      "\n",
      "----------------------------------\n",
      "<span style=\"color: gray;\">\n",
      "[R. Huang, G. Korniss, S. Nayak, 2009](http://dx.doi.org/10.1103/PhysRevE.80.045101)\n",
      "</span>"
     ]
    },
    {
     "cell_type": "code",
     "collapsed": false,
     "input": [
      "w, h = 8, 5"
     ],
     "language": "python",
     "metadata": {
      "slideshow": {
       "slide_type": "skip"
      }
     },
     "outputs": [],
     "prompt_number": 14
    },
    {
     "cell_type": "code",
     "collapsed": false,
     "input": [
      "# load data\n",
      "# data is saved in the form data[N][p]\n",
      "data = {}\n",
      "filenames = glob.glob('/home/djung/work/condynet/dorswe/n*/p*h5')\n",
      "for filename in filenames:\n",
      "    f = h5obj.File(filename)\n",
      "    try:\n",
      "        reson = f['reson']\n",
      "        dens = f['dens']\n",
      "        stderr = f['stderr']\n",
      "        param = f['param']\n",
      "    except:\n",
      "        continue\n",
      "    size = param.size\n",
      "    p = param.p\n",
      "    if size not in data:\n",
      "        data[size] = {}\n",
      "    if p in data[size]:\n",
      "        raise ValueError('data for N=%i and p=%02f already exists' % (size, p))\n",
      "    data[size][p] = bundle.Bundle(reson=reson, dens=dens, stderr=stderr, param=param)"
     ],
     "language": "python",
     "metadata": {
      "slideshow": {
       "slide_type": "skip"
      }
     },
     "outputs": [],
     "prompt_number": 15
    },
    {
     "cell_type": "code",
     "collapsed": false,
     "input": [
      "figsize(w, h)\n",
      "start, stop, step = 4, None, 10\n",
      "for (N, color, marker) in zip([100, 200, 400, 1000], ['red', 'green', 'blue', 'magenta'],\n",
      "                              ['o', 's', 'D', '^']):\n",
      "    for (p, facecolor) in zip([N/2, N-3], ['white', color]):\n",
      "        d = data[N][p]\n",
      "        errorbar(d.reson[start:stop:step], d.dens[start:stop:step], yerr=d.stderr[start:stop:step], label='N=%i, p=%g' % (N, p),\n",
      "                 marker=marker, markeredgecolor=color, color=facecolor, markersize=12, linestyle='--')\n",
      "axis([-1, 1, 0, None])\n",
      "legend(loc=1)\n",
      "title('density of resonances of the small world model with binary link disorder, \\n' +\n",
      "      'with system size $N$, shortcut density $p$ and composite ratio $q=1/2$', fontsize=12)\n",
      "xlabel(r'$\\lambda$', fontsize=24)\n",
      "ylabel(r'$\\rho(\\lambda)$', fontsize=24)\n",
      "savefig('pic/fig1c.svg', bbox_inches='tight')\n",
      "close(gcf())"
     ],
     "language": "python",
     "metadata": {
      "slideshow": {
       "slide_type": "skip"
      }
     },
     "outputs": [],
     "prompt_number": 16
    },
    {
     "cell_type": "code",
     "collapsed": false,
     "input": [
      "figsize(w, h)\n",
      "start, stop, step = 4, None, 10\n",
      "N = 1000\n",
      "for (p, color, marker) in zip([.01, .1, 1, 2, 4, 10, 100], ['purple', 'red', 'blue', 'cyan', 'magenta', 'brown', 'lightgreen'], \n",
      "                              ['o', 's', 'D', '^', '<', 'v', '>']):\n",
      "    d = data[N][p]\n",
      "    plot(d.reson[start:stop:step], d.dens[start:stop:step], label='p=%g' % p,\n",
      "         marker=marker, markeredgecolor=color, color=color, markersize=12, linestyle='--')\n",
      "axis([-1, 1, 0, None])\n",
      "legend(loc=1)\n",
      "title('density of resonances of the small world model with binary link disorder, \\n' +\n",
      "      'with system size $N=1000$, shortcut density $p$ and composite ratio $q=1/2$', fontsize=12)\n",
      "xlabel(r'$\\lambda$', fontsize=24)\n",
      "ylabel(r'$\\rho(\\lambda)$', fontsize=24)\n",
      "savefig('pic/fig1b.svg', bbox_inches='tight')\n",
      "close(gcf())"
     ],
     "language": "python",
     "metadata": {
      "slideshow": {
       "slide_type": "skip"
      }
     },
     "outputs": [],
     "prompt_number": 17
    },
    {
     "cell_type": "markdown",
     "metadata": {
      "slideshow": {
       "slide_type": "notes"
      }
     },
     "source": [
      "Here are some results for the Small World Model.\n",
      "\n",
      "On the left side we see the DOR for a fixed system size $N=1000$, but changing shortcut density $p$. The shortcut density is tuned from the *low-density regime* ($p < 1$) all the way up to the *high-density regime* ($p > 1$).\n",
      "\n",
      "The right plot compares -- for different system sizes -- the DOR of the small world model with half the possible shortcuts ($p \\approx p_{\\rm max}/2$) with the DOR of the complete graph ($p = p_{\\rm max}$)."
     ]
    },
    {
     "cell_type": "markdown",
     "metadata": {
      "slideshow": {
       "slide_type": "subslide"
      }
     },
     "source": [
      "## Resonance spectra II: Small World Model\n",
      "\n",
      "**Large-$p$ limit**\n",
      "\n",
      "<img src=\"pic/fig1b.svg\" width=\"380px\" style=\"display: inline;\">\n",
      "<img src=\"pic/fig1c.svg\" width=\"380px\" style=\"display: inline;\">\n",
      "    \n",
      "$\\Rightarrow$ Confirming results by [Huang et al.](http://dx.doi.org/10.1103/PhysRevE.80.045101)\n",
      "\n",
      "----------------------------------\n",
      "<span style=\"color: gray;\">\n",
      "[R. Huang, G. Korniss, S. Nayak, 2009](http://dx.doi.org/10.1103/PhysRevE.80.045101)\n",
      "</span>"
     ]
    },
    {
     "cell_type": "code",
     "collapsed": false,
     "input": [
      "figsize(w, h)\n",
      "start, stop, step = 4, None, 10\n",
      "p = .01\n",
      "for (N, color, marker) in zip([100, 200, 400, 1000], ['red', 'lightgreen', 'blue', 'magenta'], \n",
      "                              ['o', 's', 'D', '^']):\n",
      "    d = data[N][p]\n",
      "    plot(d.reson[start:stop:step], d.dens[start:stop:step], label='N=%i' % N,\n",
      "         marker=marker, markeredgecolor=color, color=color, markersize=12, linestyle='--')\n",
      "axis([-1, 1, 0, None])\n",
      "legend(loc=2)\n",
      "title('density of resonances of the small world model with binary link disorder, \\n' +\n",
      "      'with system size $N$, shortcut density $p=0.01$ and composite ratio $q=1/2$', fontsize=12)\n",
      "xlabel(r'$\\lambda$', fontsize=24)\n",
      "ylabel(r'$\\rho(\\lambda)$', fontsize=24)\n",
      "savefig('pic/fig2a.svg', bbox_inches='tight')\n",
      "close(gcf())"
     ],
     "language": "python",
     "metadata": {
      "slideshow": {
       "slide_type": "skip"
      }
     },
     "outputs": [],
     "prompt_number": 44
    },
    {
     "cell_type": "code",
     "collapsed": false,
     "input": [
      "figsize(w, h)\n",
      "start, stop, step = 4, None, 10\n",
      "p = .1\n",
      "for (N, color, marker) in zip([100, 200, 400, 1000], ['red', 'lightgreen', 'blue', 'magenta'], \n",
      "                              ['o', 's', 'D', '^']):\n",
      "    d = data[N][p]\n",
      "    plot(d.reson[start:stop:step], d.dens[start:stop:step], label='N=%i' % N,\n",
      "         marker=marker, markeredgecolor=color, color=color, markersize=12, linestyle='--')\n",
      "axis([-1, 1, 0, None])\n",
      "legend(loc=2)\n",
      "title('density of resonances of the small world model with binary link disorder, \\n' +\n",
      "      'with system size $N$, shortcut density $p=0.1$ and composite ratio $q=1/2$', fontsize=12)\n",
      "xlabel(r'$\\lambda$', fontsize=24)\n",
      "ylabel(r'$\\rho(\\lambda)$', fontsize=24)\n",
      "savefig('pic/fig2b.svg', bbox_inches='tight')\n",
      "close(gcf())"
     ],
     "language": "python",
     "metadata": {
      "slideshow": {
       "slide_type": "skip"
      }
     },
     "outputs": [],
     "prompt_number": 45
    },
    {
     "cell_type": "markdown",
     "metadata": {
      "slideshow": {
       "slide_type": "subslide"
      }
     },
     "source": [
      "## Resonance spectra III: Small World Model\n",
      "\n",
      "**Small-$p$ limit**\n",
      "\n",
      "<img src=\"pic/fig2a.svg\" width=\"380px\" style=\"display: inline;\">\n",
      "<img src=\"pic/fig2b.svg\" width=\"380px\" style=\"display: inline;\">\n",
      "    \n",
      "$\\Rightarrow$ Largely confirming results by [Huang et al.](http://dx.doi.org/10.1103/PhysRevE.80.045101)\n",
      "\n",
      "$\\Rightarrow$ Difference: Peak at $\\lambda = 0$.\n",
      "\n",
      "----------------------------------\n",
      "<span style=\"color: gray;\">\n",
      "[R. Huang, G. Korniss, S. Nayak, 2009](http://dx.doi.org/10.1103/PhysRevE.80.045101)\n",
      "</span>"
     ]
    },
    {
     "cell_type": "code",
     "collapsed": false,
     "input": [
      "figsize(w, h)\n",
      "start, stop, step = 4, None, 10\n",
      "for (N, color, marker) in zip([100, 200, 400, 1000], ['red', 'green', 'blue', 'magenta'],\n",
      "                              ['o', 's', 'D', '^']):\n",
      "    for (p, facecolor) in zip([N/2, N-3], ['white', color]):\n",
      "        d = data[N][p]\n",
      "        errorbar(d.reson[start:stop:step]*sqrt(p), d.dens[start:stop:step]/sqrt(p), yerr=d.stderr[start:stop:step],\n",
      "                 label='N=%i, p=%g' % (N, p), marker=marker, markeredgecolor=color, color=facecolor,\n",
      "                 markersize=12, linestyle='--')\n",
      "axis([-6, 6, 0, None])\n",
      "legend(loc=1)\n",
      "title('density of resonances of the small world model with binary link disorder, \\n' +\n",
      "      'with system size $N$, shortcut density $p$ and composite ratio $q=1/2$', fontsize=12)\n",
      "xlabel(r'$\\lambda\\sqrt{p}$', fontsize=24)\n",
      "ylabel(r'$\\rho(\\lambda)/\\sqrt{p}$', fontsize=24)\n",
      "savefig('pic/fig1ci.svg', bbox_inches='tight')\n",
      "close(gcf())"
     ],
     "language": "python",
     "metadata": {
      "slideshow": {
       "slide_type": "skip"
      }
     },
     "outputs": [],
     "prompt_number": 20
    },
    {
     "cell_type": "markdown",
     "metadata": {
      "slideshow": {
       "slide_type": "skip"
      }
     },
     "source": [
      "## Resonance spectra IV: Scaling law\n",
      "\n",
      "<img src=\"pic/fig1ci.svg\" width=\"400px\" style=\"float: right;\">\n",
      "\n",
      "Test *scaling law*, valid in the large-$p$ limit:\n",
      "\n",
      "$$\\rho(\\lambda) = p^{\\frac{1}{2}} \\phi(p^{\\frac{1}{2}} \\lambda)$$\n",
      "\n",
      "\n",
      "----------------------------------\n",
      "<span style=\"color: gray;\">\n",
      "[R. Huang, G. Korniss, S. Nayak, 2009](http://dx.doi.org/10.1103/PhysRevE.80.045101)\n",
      "</span>"
     ]
    },
    {
     "cell_type": "markdown",
     "metadata": {
      "slideshow": {
       "slide_type": "notes"
      }
     },
     "source": [
      "<span style=\"color: red;\">\n",
      "Show more results?\n",
      "</span>"
     ]
    },
    {
     "cell_type": "markdown",
     "metadata": {
      "slideshow": {
       "slide_type": "slide"
      }
     },
     "source": [
      "<div style=\"float: right; width=200px;\">\n",
      "<img src=\"pic/Pylon_ds.jpg\" width=\"200px\">\n",
      "</div>\n",
      "\n",
      "## Summary & Outlook\n",
      "\n",
      "### Summary\n",
      "\n",
      "* Description of LC networks\n",
      "     - simple graphs\n",
      "     - binary distribution of edge impedances\n",
      "* Calculation of *resonance frequencies*<br>\n",
      "    and the *density of resonances*\n",
      "\n",
      "### Outlook\n",
      "\n",
      "* Different topologies (triangular grid, honeycomb grid, and **realistic network topologies**).\n",
      "* Other impedance distributions (also **continuous distributions**), also including **ohmic resistances**.\n",
      "* Beyond the resonance case (**current and power flow calculations**)."
     ]
    },
    {
     "cell_type": "markdown",
     "metadata": {
      "slideshow": {
       "slide_type": "subslide"
      }
     },
     "source": [
      "<center style=\"font-size: 48px; padding-top: 100px; line-height: 1em;\">\n",
      "Thank you for your attention!\n",
      "</center>\n",
      "\n",
      "**References**\n",
      "\n",
      "- [J. Travers, S. Milgram, 1969](http://www.jstor.org/stable/2786545)\n",
      "- [M. Newman, D. Watts, 1999](http://dx.doi.org/10.1016/S0375-9601%2899%2900757-4)\n",
      "- [R. Huang, G. Korniss, S. Nayak, 2009](http://dx.doi.org/10.1103/PhysRevE.80.045101)\n",
      "- [Fyodorov 1999](http://dx.doi.org/10.1088/0305-4470/32/42/314)\n",
      "\n",
      "*Jacobs University Bremen*<br>\n",
      "*School of Engineering and Science*<br>\n",
      "*Solid State Physics Group*\n",
      "\n",
      "<img align=\"right\" width=\"100px\" height=\"100px\" src=\"pic/logo-bmbf-en.jpg\">\n",
      "<img align=\"right\" width=\"300px\" src=\"pic/logo-stromnetze.png\" style=\"padding-left: 20px; padding-right: 20px;\">\n",
      "<img align=\"left\" width=\"200px\" src=\"pic/logo-jub.png\">\n",
      "<small>*Collective Nonlinear Dynamics of<br>\n",
      "Electricity Networks (CoNDyNet)*</small>"
     ]
    }
   ],
   "metadata": {}
  }
 ]
}